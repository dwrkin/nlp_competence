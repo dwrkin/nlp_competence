{
 "cells": [
  {
   "cell_type": "code",
   "execution_count": 42,
   "id": "b44080b4",
   "metadata": {},
   "outputs": [],
   "source": [
    "from sklearn.feature_extraction.text import TfidfVectorizer\n",
    "import pandas as pd\n",
    "from sklearn.metrics.pairwise import cosine_similarity\n",
    "import matplotlib.pyplot as plt\n",
    "import seaborn as sns"
   ]
  },
  {
   "cell_type": "code",
   "execution_count": 43,
   "id": "4193300c",
   "metadata": {},
   "outputs": [],
   "source": [
    "# Пример текстовых данных\n",
    "documents = [\n",
    "    \"Машинное обучение - то интересная область.\",\n",
    "    \"то интересная область. Машинное обучение - \",\n",
    "    \"Глубокое Машинное обучение - это интересная область.\",\n",
    "    \"Машинное обучение - это очень интересная область.\",\n",
    "    \"Машинное обучение - это неинтересная область.\"\n",
    "]"
   ]
  },
  {
   "cell_type": "code",
   "execution_count": 44,
   "id": "2d664603",
   "metadata": {},
   "outputs": [
    {
     "data": {
      "text/html": [
       "<div>\n",
       "<style scoped>\n",
       "    .dataframe tbody tr th:only-of-type {\n",
       "        vertical-align: middle;\n",
       "    }\n",
       "\n",
       "    .dataframe tbody tr th {\n",
       "        vertical-align: top;\n",
       "    }\n",
       "\n",
       "    .dataframe thead th {\n",
       "        text-align: right;\n",
       "    }\n",
       "</style>\n",
       "<table border=\"1\" class=\"dataframe\">\n",
       "  <thead>\n",
       "    <tr style=\"text-align: right;\">\n",
       "      <th></th>\n",
       "      <th>глубокое</th>\n",
       "      <th>интересная</th>\n",
       "      <th>машинное</th>\n",
       "      <th>неинтересная</th>\n",
       "      <th>область</th>\n",
       "      <th>обучение</th>\n",
       "      <th>очень</th>\n",
       "      <th>то</th>\n",
       "      <th>это</th>\n",
       "    </tr>\n",
       "  </thead>\n",
       "  <tbody>\n",
       "    <tr>\n",
       "      <th>документ_0</th>\n",
       "      <td>0.000000</td>\n",
       "      <td>0.438661</td>\n",
       "      <td>0.371016</td>\n",
       "      <td>0.000000</td>\n",
       "      <td>0.371016</td>\n",
       "      <td>0.371016</td>\n",
       "      <td>0.000000</td>\n",
       "      <td>0.628186</td>\n",
       "      <td>0.000000</td>\n",
       "    </tr>\n",
       "    <tr>\n",
       "      <th>документ_1</th>\n",
       "      <td>0.000000</td>\n",
       "      <td>0.438661</td>\n",
       "      <td>0.371016</td>\n",
       "      <td>0.000000</td>\n",
       "      <td>0.371016</td>\n",
       "      <td>0.371016</td>\n",
       "      <td>0.000000</td>\n",
       "      <td>0.628186</td>\n",
       "      <td>0.000000</td>\n",
       "    </tr>\n",
       "    <tr>\n",
       "      <th>документ_2</th>\n",
       "      <td>0.639257</td>\n",
       "      <td>0.360146</td>\n",
       "      <td>0.304609</td>\n",
       "      <td>0.000000</td>\n",
       "      <td>0.304609</td>\n",
       "      <td>0.304609</td>\n",
       "      <td>0.000000</td>\n",
       "      <td>0.000000</td>\n",
       "      <td>0.428118</td>\n",
       "    </tr>\n",
       "    <tr>\n",
       "      <th>документ_3</th>\n",
       "      <td>0.000000</td>\n",
       "      <td>0.360146</td>\n",
       "      <td>0.304609</td>\n",
       "      <td>0.000000</td>\n",
       "      <td>0.304609</td>\n",
       "      <td>0.304609</td>\n",
       "      <td>0.639257</td>\n",
       "      <td>0.000000</td>\n",
       "      <td>0.428118</td>\n",
       "    </tr>\n",
       "    <tr>\n",
       "      <th>документ_4</th>\n",
       "      <td>0.000000</td>\n",
       "      <td>0.000000</td>\n",
       "      <td>0.326520</td>\n",
       "      <td>0.685239</td>\n",
       "      <td>0.326520</td>\n",
       "      <td>0.326520</td>\n",
       "      <td>0.000000</td>\n",
       "      <td>0.000000</td>\n",
       "      <td>0.458913</td>\n",
       "    </tr>\n",
       "  </tbody>\n",
       "</table>\n",
       "</div>"
      ],
      "text/plain": [
       "            глубокое  интересная  машинное  неинтересная   область  обучение  \\\n",
       "документ_0  0.000000    0.438661  0.371016      0.000000  0.371016  0.371016   \n",
       "документ_1  0.000000    0.438661  0.371016      0.000000  0.371016  0.371016   \n",
       "документ_2  0.639257    0.360146  0.304609      0.000000  0.304609  0.304609   \n",
       "документ_3  0.000000    0.360146  0.304609      0.000000  0.304609  0.304609   \n",
       "документ_4  0.000000    0.000000  0.326520      0.685239  0.326520  0.326520   \n",
       "\n",
       "               очень        то       это  \n",
       "документ_0  0.000000  0.628186  0.000000  \n",
       "документ_1  0.000000  0.628186  0.000000  \n",
       "документ_2  0.000000  0.000000  0.428118  \n",
       "документ_3  0.639257  0.000000  0.428118  \n",
       "документ_4  0.000000  0.000000  0.458913  "
      ]
     },
     "execution_count": 44,
     "metadata": {},
     "output_type": "execute_result"
    }
   ],
   "source": [
    "tfidf_vectorizer = TfidfVectorizer()\n",
    "tfidf_matrix = tfidf_vectorizer.fit_transform(documents)\n",
    "feature_names = tfidf_vectorizer.get_feature_names_out()\n",
    "\n",
    "df = pd.DataFrame(tfidf_matrix.todense().tolist(), columns = feature_names, index = [\"документ_\" + str(i) for i in range(len(documents))])\n",
    "df"
   ]
  },
  {
   "cell_type": "code",
   "execution_count": 45,
   "id": "8f830325",
   "metadata": {},
   "outputs": [
    {
     "data": {
      "text/plain": [
       "['документ_0', 'документ_1', 'документ_2', 'документ_3', 'документ_4']"
      ]
     },
     "execution_count": 45,
     "metadata": {},
     "output_type": "execute_result"
    }
   ],
   "source": [
    "df.index.tolist()"
   ]
  },
  {
   "cell_type": "code",
   "execution_count": 46,
   "id": "b4f1f25b",
   "metadata": {},
   "outputs": [
    {
     "data": {
      "text/plain": [
       "array([[1.        , 1.        , 0.49702725, 0.49702725, 0.3634331 ],\n",
       "       [1.        , 1.        , 0.49702725, 0.49702725, 0.3634331 ],\n",
       "       [0.49702725, 0.49702725, 1.        , 0.59135064, 0.49485197],\n",
       "       [0.49702725, 0.49702725, 0.59135064, 1.        , 0.49485197],\n",
       "       [0.3634331 , 0.3634331 , 0.49485197, 0.49485197, 1.        ]])"
      ]
     },
     "execution_count": 46,
     "metadata": {},
     "output_type": "execute_result"
    }
   ],
   "source": [
    "cosine_similarity_matrix  = cosine_similarity(tfidf_matrix)\n",
    "cosine_similarity_matrix"
   ]
  },
  {
   "cell_type": "code",
   "execution_count": 47,
   "id": "fa190f85",
   "metadata": {},
   "outputs": [
    {
     "data": {
      "text/html": [
       "<div>\n",
       "<style scoped>\n",
       "    .dataframe tbody tr th:only-of-type {\n",
       "        vertical-align: middle;\n",
       "    }\n",
       "\n",
       "    .dataframe tbody tr th {\n",
       "        vertical-align: top;\n",
       "    }\n",
       "\n",
       "    .dataframe thead th {\n",
       "        text-align: right;\n",
       "    }\n",
       "</style>\n",
       "<table border=\"1\" class=\"dataframe\">\n",
       "  <thead>\n",
       "    <tr style=\"text-align: right;\">\n",
       "      <th></th>\n",
       "      <th>документ_0</th>\n",
       "      <th>документ_1</th>\n",
       "      <th>документ_2</th>\n",
       "      <th>документ_3</th>\n",
       "      <th>документ_4</th>\n",
       "    </tr>\n",
       "  </thead>\n",
       "  <tbody>\n",
       "    <tr>\n",
       "      <th>документ_0</th>\n",
       "      <td>1.000000</td>\n",
       "      <td>1.000000</td>\n",
       "      <td>0.497027</td>\n",
       "      <td>0.497027</td>\n",
       "      <td>0.363433</td>\n",
       "    </tr>\n",
       "    <tr>\n",
       "      <th>документ_1</th>\n",
       "      <td>1.000000</td>\n",
       "      <td>1.000000</td>\n",
       "      <td>0.497027</td>\n",
       "      <td>0.497027</td>\n",
       "      <td>0.363433</td>\n",
       "    </tr>\n",
       "    <tr>\n",
       "      <th>документ_2</th>\n",
       "      <td>0.497027</td>\n",
       "      <td>0.497027</td>\n",
       "      <td>1.000000</td>\n",
       "      <td>0.591351</td>\n",
       "      <td>0.494852</td>\n",
       "    </tr>\n",
       "    <tr>\n",
       "      <th>документ_3</th>\n",
       "      <td>0.497027</td>\n",
       "      <td>0.497027</td>\n",
       "      <td>0.591351</td>\n",
       "      <td>1.000000</td>\n",
       "      <td>0.494852</td>\n",
       "    </tr>\n",
       "    <tr>\n",
       "      <th>документ_4</th>\n",
       "      <td>0.363433</td>\n",
       "      <td>0.363433</td>\n",
       "      <td>0.494852</td>\n",
       "      <td>0.494852</td>\n",
       "      <td>1.000000</td>\n",
       "    </tr>\n",
       "  </tbody>\n",
       "</table>\n",
       "</div>"
      ],
      "text/plain": [
       "            документ_0  документ_1  документ_2  документ_3  документ_4\n",
       "документ_0    1.000000    1.000000    0.497027    0.497027    0.363433\n",
       "документ_1    1.000000    1.000000    0.497027    0.497027    0.363433\n",
       "документ_2    0.497027    0.497027    1.000000    0.591351    0.494852\n",
       "документ_3    0.497027    0.497027    0.591351    1.000000    0.494852\n",
       "документ_4    0.363433    0.363433    0.494852    0.494852    1.000000"
      ]
     },
     "execution_count": 47,
     "metadata": {},
     "output_type": "execute_result"
    }
   ],
   "source": [
    "df_cos = pd.DataFrame(cosine_similarity_matrix.tolist(), index=df.index.tolist(), columns=df.index.tolist())\n",
    "df_cos"
   ]
  },
  {
   "cell_type": "code",
   "execution_count": 48,
   "id": "caeccec8",
   "metadata": {},
   "outputs": [
    {
     "data": {
      "text/plain": [
       "<Axes: >"
      ]
     },
     "execution_count": 48,
     "metadata": {},
     "output_type": "execute_result"
    },
    {
     "data": {
      "image/png": "[encoded data removed]",
      "text/plain": [
       "<Figure size 640x480 with 2 Axes>"
      ]
     },
     "metadata": {},
     "output_type": "display_data"
    }
   ],
   "source": [
    "#plt.figure(figsize = (24,16))\n",
    "sns.heatmap(df_cos, cmap=\"Blues\", annot=True, fmt=\".4f\") \n",
    "#, annot= True,fmt=\".1f\""
   ]
  },
  {
   "cell_type": "markdown",
   "id": "d6a8dfd8",
   "metadata": {},
   "source": [
    "Другой пример"
   ]
  },
  {
   "cell_type": "code",
   "execution_count": 49,
   "id": "914927eb",
   "metadata": {},
   "outputs": [],
   "source": [
    "df = pd.DataFrame({'docId': [1,2,3], \n",
    "               'sent': ['This is the first sentence','This is the second sentence', 'This is the third sentence']})"
   ]
  },
  {
   "cell_type": "code",
   "execution_count": 50,
   "id": "0afe62aa",
   "metadata": {},
   "outputs": [
    {
     "data": {
      "text/html": [
       "<div>\n",
       "<style scoped>\n",
       "    .dataframe tbody tr th:only-of-type {\n",
       "        vertical-align: middle;\n",
       "    }\n",
       "\n",
       "    .dataframe tbody tr th {\n",
       "        vertical-align: top;\n",
       "    }\n",
       "\n",
       "    .dataframe thead th {\n",
       "        text-align: right;\n",
       "    }\n",
       "</style>\n",
       "<table border=\"1\" class=\"dataframe\">\n",
       "  <thead>\n",
       "    <tr style=\"text-align: right;\">\n",
       "      <th></th>\n",
       "      <th>docId</th>\n",
       "      <th>sent</th>\n",
       "    </tr>\n",
       "  </thead>\n",
       "  <tbody>\n",
       "    <tr>\n",
       "      <th>0</th>\n",
       "      <td>1</td>\n",
       "      <td>This is the first sentence</td>\n",
       "    </tr>\n",
       "    <tr>\n",
       "      <th>1</th>\n",
       "      <td>2</td>\n",
       "      <td>This is the second sentence</td>\n",
       "    </tr>\n",
       "    <tr>\n",
       "      <th>2</th>\n",
       "      <td>3</td>\n",
       "      <td>This is the third sentence</td>\n",
       "    </tr>\n",
       "  </tbody>\n",
       "</table>\n",
       "</div>"
      ],
      "text/plain": [
       "   docId                         sent\n",
       "0      1   This is the first sentence\n",
       "1      2  This is the second sentence\n",
       "2      3   This is the third sentence"
      ]
     },
     "execution_count": 50,
     "metadata": {},
     "output_type": "execute_result"
    }
   ],
   "source": [
    "df"
   ]
  },
  {
   "cell_type": "code",
   "execution_count": 51,
   "id": "9fa19c79",
   "metadata": {},
   "outputs": [
    {
     "data": {
      "text/plain": [
       "array([[0.64612892, 0.38161415, 0.        , 0.38161415, 0.38161415,\n",
       "        0.        , 0.38161415],\n",
       "       [0.        , 0.38161415, 0.64612892, 0.38161415, 0.38161415,\n",
       "        0.        , 0.38161415],\n",
       "       [0.        , 0.38161415, 0.        , 0.38161415, 0.38161415,\n",
       "        0.64612892, 0.38161415]])"
      ]
     },
     "execution_count": 51,
     "metadata": {},
     "output_type": "execute_result"
    }
   ],
   "source": [
    "v = TfidfVectorizer()\n",
    "x = v.fit_transform(df['sent'])\n",
    "x.toarray()"
   ]
  },
  {
   "cell_type": "code",
   "execution_count": 52,
   "id": "1bd32974",
   "metadata": {},
   "outputs": [
    {
     "name": "stderr",
     "output_type": "stream",
     "text": [
      "c:\\Users\\seismopro\\AppData\\Local\\anaconda3\\Lib\\site-packages\\sklearn\\utils\\deprecation.py:87: FutureWarning: Function get_feature_names is deprecated; get_feature_names is deprecated in 1.0 and will be removed in 1.2. Please use get_feature_names_out instead.\n",
      "  warnings.warn(msg, category=FutureWarning)\n"
     ]
    },
    {
     "data": {
      "text/plain": [
       "['first', 'is', 'second', 'sentence', 'the', 'third', 'this']"
      ]
     },
     "execution_count": 52,
     "metadata": {},
     "output_type": "execute_result"
    }
   ],
   "source": [
    "v.get_feature_names()"
   ]
  },
  {
   "cell_type": "code",
   "execution_count": 1,
   "id": "1028e943",
   "metadata": {},
   "outputs": [
    {
     "name": "stdout",
     "output_type": "stream",
     "text": [
      "Важные фичи: ['становится', 'распространенным', 'искусственный', 'интеллект', 'все', 'более', 'системы', 'потенциалом', 'обладают', 'интеллектуальные', 'большим']\n"
     ]
    }
   ],
   "source": [
    "from sklearn.feature_extraction.text import TfidfVectorizer\n",
    "\n",
    "# Пример текстовых данных\n",
    "documents = [\n",
    "    \"Искусственный интеллект становится все более распространенным.\",\n",
    "    \"Интеллектуальные системы обладают большим потенциалом.\"\n",
    "]\n",
    "\n",
    "# Создание объекта TfidfVectorizer с использованием биграмм\n",
    "tfidf_vectorizer = TfidfVectorizer(ngram_range=(1, 1))\n",
    "\n",
    "# Применение TF-IDF к текстовым данным\n",
    "tfidf_matrix = tfidf_vectorizer.fit_transform(documents)\n",
    "\n",
    "# Получение списка фичей и их значения TF-IDF для первого документа\n",
    "feature_names = tfidf_vectorizer.get_feature_names_out()\n",
    "tfidf_scores = tfidf_matrix.toarray()[0]\n",
    "\n",
    "# Сортировка фичей по значениям TF-IDF\n",
    "sorted_features = [feature for _, feature in sorted(zip(tfidf_scores, feature_names), reverse=True)]\n",
    "\n",
    "print(\"Важные фичи:\", sorted_features)"
   ]
  }
 ],
 "metadata": {
  "kernelspec": {
   "display_name": "Python 3.11.5 ('base')",
   "language": "python",
   "name": "python3"
  },
  "language_info": {
   "codemirror_mode": {
    "name": "ipython",
    "version": 3
   },
   "file_extension": ".py",
   "mimetype": "text/x-python",
   "name": "python",
   "nbconvert_exporter": "python",
   "pygments_lexer": "ipython3",
   "version": "3.11.5"
  },
  "vscode": {
   "interpreter": {
    "hash": "29df45c0630be6998bd6859d1c11360436602068b14ccc3a1231a3420f18c4a1"
   }
  }
 },
 "nbformat": 4,
 "nbformat_minor": 5
}
