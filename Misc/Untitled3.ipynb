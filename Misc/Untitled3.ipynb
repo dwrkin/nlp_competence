{
 "cells": [
  {
   "cell_type": "code",
   "execution_count": 28,
   "id": "b44080b4",
   "metadata": {},
   "outputs": [],
   "source": [
    "from sklearn.feature_extraction.text import TfidfVectorizer\n",
    "import pandas as pd"
   ]
  },
  {
   "cell_type": "code",
   "execution_count": 29,
   "id": "4193300c",
   "metadata": {},
   "outputs": [],
   "source": [
    "# Пример текстовых данных\n",
    "documents = [\n",
    "    \"Машинное обучение - это интересная область.\",\n",
    "    \"Обучение с учителем - ключевой аспект машинного обучения.\",\n",
    "    \"Область NLP также связана с машинным обучением.\"\n",
    "]"
   ]
  },
  {
   "cell_type": "code",
   "execution_count": 31,
   "id": "2d664603",
   "metadata": {},
   "outputs": [
    {
     "data": {
      "text/html": [
       "<div>\n",
       "<style scoped>\n",
       "    .dataframe tbody tr th:only-of-type {\n",
       "        vertical-align: middle;\n",
       "    }\n",
       "\n",
       "    .dataframe tbody tr th {\n",
       "        vertical-align: top;\n",
       "    }\n",
       "\n",
       "    .dataframe thead th {\n",
       "        text-align: right;\n",
       "    }\n",
       "</style>\n",
       "<table border=\"1\" class=\"dataframe\">\n",
       "  <thead>\n",
       "    <tr style=\"text-align: right;\">\n",
       "      <th></th>\n",
       "      <th>nlp</th>\n",
       "      <th>аспект</th>\n",
       "      <th>интересная</th>\n",
       "      <th>ключевой</th>\n",
       "      <th>машинного</th>\n",
       "      <th>машинное</th>\n",
       "      <th>машинным</th>\n",
       "      <th>область</th>\n",
       "      <th>обучение</th>\n",
       "      <th>обучением</th>\n",
       "      <th>обучения</th>\n",
       "      <th>связана</th>\n",
       "      <th>также</th>\n",
       "      <th>учителем</th>\n",
       "      <th>это</th>\n",
       "    </tr>\n",
       "  </thead>\n",
       "  <tbody>\n",
       "    <tr>\n",
       "      <th>0</th>\n",
       "      <td>0.000000</td>\n",
       "      <td>0.000000</td>\n",
       "      <td>0.490479</td>\n",
       "      <td>0.000000</td>\n",
       "      <td>0.000000</td>\n",
       "      <td>0.490479</td>\n",
       "      <td>0.000000</td>\n",
       "      <td>0.373022</td>\n",
       "      <td>0.373022</td>\n",
       "      <td>0.000000</td>\n",
       "      <td>0.000000</td>\n",
       "      <td>0.000000</td>\n",
       "      <td>0.000000</td>\n",
       "      <td>0.000000</td>\n",
       "      <td>0.490479</td>\n",
       "    </tr>\n",
       "    <tr>\n",
       "      <th>1</th>\n",
       "      <td>0.000000</td>\n",
       "      <td>0.423394</td>\n",
       "      <td>0.000000</td>\n",
       "      <td>0.423394</td>\n",
       "      <td>0.423394</td>\n",
       "      <td>0.000000</td>\n",
       "      <td>0.000000</td>\n",
       "      <td>0.000000</td>\n",
       "      <td>0.322002</td>\n",
       "      <td>0.000000</td>\n",
       "      <td>0.423394</td>\n",
       "      <td>0.000000</td>\n",
       "      <td>0.000000</td>\n",
       "      <td>0.423394</td>\n",
       "      <td>0.000000</td>\n",
       "    </tr>\n",
       "    <tr>\n",
       "      <th>2</th>\n",
       "      <td>0.423394</td>\n",
       "      <td>0.000000</td>\n",
       "      <td>0.000000</td>\n",
       "      <td>0.000000</td>\n",
       "      <td>0.000000</td>\n",
       "      <td>0.000000</td>\n",
       "      <td>0.423394</td>\n",
       "      <td>0.322002</td>\n",
       "      <td>0.000000</td>\n",
       "      <td>0.423394</td>\n",
       "      <td>0.000000</td>\n",
       "      <td>0.423394</td>\n",
       "      <td>0.423394</td>\n",
       "      <td>0.000000</td>\n",
       "      <td>0.000000</td>\n",
       "    </tr>\n",
       "  </tbody>\n",
       "</table>\n",
       "</div>"
      ],
      "text/plain": [
       "        nlp    аспект  интересная  ключевой  машинного  машинное  машинным  \\\n",
       "0  0.000000  0.000000    0.490479  0.000000   0.000000  0.490479  0.000000   \n",
       "1  0.000000  0.423394    0.000000  0.423394   0.423394  0.000000  0.000000   \n",
       "2  0.423394  0.000000    0.000000  0.000000   0.000000  0.000000  0.423394   \n",
       "\n",
       "    область  обучение  обучением  обучения   связана     также  учителем  \\\n",
       "0  0.373022  0.373022   0.000000  0.000000  0.000000  0.000000  0.000000   \n",
       "1  0.000000  0.322002   0.000000  0.423394  0.000000  0.000000  0.423394   \n",
       "2  0.322002  0.000000   0.423394  0.000000  0.423394  0.423394  0.000000   \n",
       "\n",
       "        это  \n",
       "0  0.490479  \n",
       "1  0.000000  \n",
       "2  0.000000  "
      ]
     },
     "execution_count": 31,
     "metadata": {},
     "output_type": "execute_result"
    }
   ],
   "source": [
    "tfidf_vectorizer = TfidfVectorizer()\n",
    "tfidf_matrix = tfidf_vectorizer.fit_transform(documents)\n",
    "feature_names = tfidf_vectorizer.get_feature_names_out()\n",
    "dense = tfidf_matrix.todense()\n",
    "denselist = dense.tolist()\n",
    "\n",
    "df = pd.DataFrame(denselist, columns = feature_names)\n",
    "df"
   ]
  },
  {
   "cell_type": "code",
   "execution_count": 33,
   "id": "0d056f49",
   "metadata": {},
   "outputs": [
    {
     "name": "stdout",
     "output_type": "stream",
     "text": [
      "Ключевые слова: ['также', 'связана', 'обучением', 'машинным', 'nlp', 'область', 'это', 'учителем', 'обучения', 'обучение']\n"
     ]
    }
   ],
   "source": [
    "# Сортировка слов по значениям TF-IDF\n",
    "sorted_keywords = [word for _, word in sorted(zip(tfidf_scores, feature_names), reverse=True)]\n",
    "\n",
    "print(\"Ключевые слова:\", sorted_keywords[:10])"
   ]
  },
  {
   "cell_type": "code",
   "execution_count": 16,
   "id": "592ba4f4",
   "metadata": {},
   "outputs": [
    {
     "data": {
      "text/plain": [
       "array(['nlp', 'аспект', 'интересная', 'ключевой', 'машинного', 'машинное',\n",
       "       'машинным', 'область', 'обучение', 'обучением', 'обучения',\n",
       "       'связана', 'также', 'учителем', 'это'], dtype=object)"
      ]
     },
     "execution_count": 16,
     "metadata": {},
     "output_type": "execute_result"
    }
   ],
   "source": [
    "feature_names"
   ]
  },
  {
   "cell_type": "code",
   "execution_count": 17,
   "id": "8d4ee177",
   "metadata": {},
   "outputs": [
    {
     "data": {
      "text/plain": [
       "array([0.        , 0.        , 0.49047908, 0.        , 0.        ,\n",
       "       0.49047908, 0.        , 0.37302199, 0.37302199, 0.        ,\n",
       "       0.        , 0.        , 0.        , 0.        , 0.49047908])"
      ]
     },
     "execution_count": 17,
     "metadata": {},
     "output_type": "execute_result"
    }
   ],
   "source": [
    "tfidf_scores"
   ]
  },
  {
   "cell_type": "code",
   "execution_count": 18,
   "id": "efbca629",
   "metadata": {},
   "outputs": [
    {
     "data": {
      "text/plain": [
       "array([[0.        , 0.        , 0.49047908, 0.        , 0.        ,\n",
       "        0.49047908, 0.        , 0.37302199, 0.37302199, 0.        ,\n",
       "        0.        , 0.        , 0.        , 0.        , 0.49047908],\n",
       "       [0.        , 0.42339448, 0.        , 0.42339448, 0.42339448,\n",
       "        0.        , 0.        , 0.        , 0.32200242, 0.        ,\n",
       "        0.42339448, 0.        , 0.        , 0.42339448, 0.        ],\n",
       "       [0.42339448, 0.        , 0.        , 0.        , 0.        ,\n",
       "        0.        , 0.42339448, 0.32200242, 0.        , 0.42339448,\n",
       "        0.        , 0.42339448, 0.42339448, 0.        , 0.        ]])"
      ]
     },
     "execution_count": 18,
     "metadata": {},
     "output_type": "execute_result"
    }
   ],
   "source": [
    "tfidf_matrix.toarray()"
   ]
  },
  {
   "cell_type": "code",
   "execution_count": 34,
   "id": "914927eb",
   "metadata": {},
   "outputs": [],
   "source": [
    "df = pd.DataFrame({'docId': [1,2,3], \n",
    "               'sent': ['This is the first sentence','This is the second sentence', 'This is the third sentence']})"
   ]
  },
  {
   "cell_type": "code",
   "execution_count": 38,
   "id": "0afe62aa",
   "metadata": {},
   "outputs": [
    {
     "data": {
      "text/html": [
       "<div>\n",
       "<style scoped>\n",
       "    .dataframe tbody tr th:only-of-type {\n",
       "        vertical-align: middle;\n",
       "    }\n",
       "\n",
       "    .dataframe tbody tr th {\n",
       "        vertical-align: top;\n",
       "    }\n",
       "\n",
       "    .dataframe thead th {\n",
       "        text-align: right;\n",
       "    }\n",
       "</style>\n",
       "<table border=\"1\" class=\"dataframe\">\n",
       "  <thead>\n",
       "    <tr style=\"text-align: right;\">\n",
       "      <th></th>\n",
       "      <th>docId</th>\n",
       "      <th>sent</th>\n",
       "    </tr>\n",
       "  </thead>\n",
       "  <tbody>\n",
       "    <tr>\n",
       "      <th>0</th>\n",
       "      <td>1</td>\n",
       "      <td>This is the first sentence</td>\n",
       "    </tr>\n",
       "    <tr>\n",
       "      <th>1</th>\n",
       "      <td>2</td>\n",
       "      <td>This is the second sentence</td>\n",
       "    </tr>\n",
       "    <tr>\n",
       "      <th>2</th>\n",
       "      <td>3</td>\n",
       "      <td>This is the third sentence</td>\n",
       "    </tr>\n",
       "  </tbody>\n",
       "</table>\n",
       "</div>"
      ],
      "text/plain": [
       "   docId                         sent\n",
       "0      1   This is the first sentence\n",
       "1      2  This is the second sentence\n",
       "2      3   This is the third sentence"
      ]
     },
     "execution_count": 38,
     "metadata": {},
     "output_type": "execute_result"
    }
   ],
   "source": [
    "df"
   ]
  },
  {
   "cell_type": "code",
   "execution_count": 36,
   "id": "9fa19c79",
   "metadata": {},
   "outputs": [
    {
     "data": {
      "text/plain": [
       "array([[0.64612892, 0.38161415, 0.        , 0.38161415, 0.38161415,\n",
       "        0.        , 0.38161415],\n",
       "       [0.        , 0.38161415, 0.64612892, 0.38161415, 0.38161415,\n",
       "        0.        , 0.38161415],\n",
       "       [0.        , 0.38161415, 0.        , 0.38161415, 0.38161415,\n",
       "        0.64612892, 0.38161415]])"
      ]
     },
     "execution_count": 36,
     "metadata": {},
     "output_type": "execute_result"
    }
   ],
   "source": [
    "v = TfidfVectorizer()\n",
    "x = v.fit_transform(df['sent'])\n",
    "x.toarray()"
   ]
  },
  {
   "cell_type": "code",
   "execution_count": 37,
   "id": "1bd32974",
   "metadata": {},
   "outputs": [
    {
     "name": "stderr",
     "output_type": "stream",
     "text": [
      "C:\\Users\\seismopro\\AppData\\Local\\anaconda3\\Lib\\site-packages\\sklearn\\utils\\deprecation.py:87: FutureWarning: Function get_feature_names is deprecated; get_feature_names is deprecated in 1.0 and will be removed in 1.2. Please use get_feature_names_out instead.\n",
      "  warnings.warn(msg, category=FutureWarning)\n"
     ]
    },
    {
     "data": {
      "text/plain": [
       "['first', 'is', 'second', 'sentence', 'the', 'third', 'this']"
      ]
     },
     "execution_count": 37,
     "metadata": {},
     "output_type": "execute_result"
    }
   ],
   "source": [
    "v.get_feature_names()"
   ]
  },
  {
   "cell_type": "code",
   "execution_count": null,
   "id": "1028e943",
   "metadata": {},
   "outputs": [],
   "source": [
    "from sklearn.feature_extraction.text import TfidfVectorizer\n",
    "\n",
    "# Пример текстовых данных\n",
    "documents = [\n",
    "    \"Искусственный интеллект становится все более распространенным.\",\n",
    "    \"Интеллектуальные системы обладают большим потенциалом.\"\n",
    "]\n",
    "\n",
    "# Создание объекта TfidfVectorizer с использованием биграмм\n",
    "tfidf_vectorizer = TfidfVectorizer(ngram_range=(1, 2))\n",
    "\n",
    "# Применение TF-IDF к текстовым данным\n",
    "tfidf_matrix = tfidf_vectorizer.fit_transform(documents)\n",
    "\n",
    "# Получение списка фичей и их значения TF-IDF для первого документа\n",
    "feature_names = tfidf_vectorizer.get_feature_names_out()\n",
    "tfidf_scores = tfidf_matrix.toarray()[0]\n",
    "\n",
    "# Сортировка фичей по значениям TF-IDF\n",
    "sorted_features = [feature for _, feature in sorted(zip(tfidf_scores, feature_names), reverse=True)]\n",
    "\n",
    "print(\"Важные фичи:\", sorted_features)"
   ]
  }
 ],
 "metadata": {
  "kernelspec": {
   "display_name": "Python 3 (ipykernel)",
   "language": "python",
   "name": "python3"
  },
  "language_info": {
   "codemirror_mode": {
    "name": "ipython",
    "version": 3
   },
   "file_extension": ".py",
   "mimetype": "text/x-python",
   "name": "python",
   "nbconvert_exporter": "python",
   "pygments_lexer": "ipython3",
   "version": "3.11.5"
  }
 },
 "nbformat": 4,
 "nbformat_minor": 5
}
