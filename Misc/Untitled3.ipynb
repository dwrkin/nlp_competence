{
 "cells": [
  {
   "cell_type": "code",
   "execution_count": 1,
   "id": "b44080b4",
   "metadata": {},
   "outputs": [],
   "source": [
    "from sklearn.feature_extraction.text import TfidfVectorizer\n",
    "import pandas as pd\n",
    "from sklearn.metrics.pairwise import cosine_similarity\n",
    "import matplotlib.pyplot as plt\n",
    "import seaborn as sns"
   ]
  },
  {
   "cell_type": "code",
   "execution_count": 2,
   "id": "0ed2ad41",
   "metadata": {},
   "outputs": [],
   "source": [
    "def create_dataframe(matrix, tokens):\n",
    "\n",
    "    doc_names = [f'doc_{i}' for i, _ in enumerate(matrix)]\n",
    "    df = pd.DataFrame(data=matrix, index=doc_names, columns=tokens)\n",
    "    return(df)"
   ]
  },
  {
   "cell_type": "code",
   "execution_count": 3,
   "id": "4193300c",
   "metadata": {},
   "outputs": [],
   "source": [
    "# Пример текстовых данных\n",
    "documents = [\n",
    "    \"Машинное обучение - то интересная область.\",\n",
    "    \"то интересная область. Машинное обучение - \",\n",
    "    \"Глубокое Машинное обучение - это интересная область.\",\n",
    "    \"Машинное обучение - это очень интересная область.\",\n",
    "    \"Машинное обучение - это неинтересная область.\"\n",
    "]"
   ]
  },
  {
   "cell_type": "code",
   "execution_count": null,
   "id": "59fcba34",
   "metadata": {},
   "outputs": [],
   "source": []
  },
  {
   "cell_type": "code",
   "execution_count": 4,
   "id": "2d664603",
   "metadata": {},
   "outputs": [
    {
     "data": {
      "text/html": [
       "<div>\n",
       "<style scoped>\n",
       "    .dataframe tbody tr th:only-of-type {\n",
       "        vertical-align: middle;\n",
       "    }\n",
       "\n",
       "    .dataframe tbody tr th {\n",
       "        vertical-align: top;\n",
       "    }\n",
       "\n",
       "    .dataframe thead th {\n",
       "        text-align: right;\n",
       "    }\n",
       "</style>\n",
       "<table border=\"1\" class=\"dataframe\">\n",
       "  <thead>\n",
       "    <tr style=\"text-align: right;\">\n",
       "      <th></th>\n",
       "      <th>глубокое</th>\n",
       "      <th>интересная</th>\n",
       "      <th>машинное</th>\n",
       "      <th>неинтересная</th>\n",
       "      <th>область</th>\n",
       "      <th>обучение</th>\n",
       "      <th>очень</th>\n",
       "      <th>то</th>\n",
       "      <th>это</th>\n",
       "    </tr>\n",
       "  </thead>\n",
       "  <tbody>\n",
       "    <tr>\n",
       "      <th>0</th>\n",
       "      <td>0.000000</td>\n",
       "      <td>0.438661</td>\n",
       "      <td>0.371016</td>\n",
       "      <td>0.000000</td>\n",
       "      <td>0.371016</td>\n",
       "      <td>0.371016</td>\n",
       "      <td>0.000000</td>\n",
       "      <td>0.628186</td>\n",
       "      <td>0.000000</td>\n",
       "    </tr>\n",
       "    <tr>\n",
       "      <th>1</th>\n",
       "      <td>0.000000</td>\n",
       "      <td>0.438661</td>\n",
       "      <td>0.371016</td>\n",
       "      <td>0.000000</td>\n",
       "      <td>0.371016</td>\n",
       "      <td>0.371016</td>\n",
       "      <td>0.000000</td>\n",
       "      <td>0.628186</td>\n",
       "      <td>0.000000</td>\n",
       "    </tr>\n",
       "    <tr>\n",
       "      <th>2</th>\n",
       "      <td>0.639257</td>\n",
       "      <td>0.360146</td>\n",
       "      <td>0.304609</td>\n",
       "      <td>0.000000</td>\n",
       "      <td>0.304609</td>\n",
       "      <td>0.304609</td>\n",
       "      <td>0.000000</td>\n",
       "      <td>0.000000</td>\n",
       "      <td>0.428118</td>\n",
       "    </tr>\n",
       "    <tr>\n",
       "      <th>3</th>\n",
       "      <td>0.000000</td>\n",
       "      <td>0.360146</td>\n",
       "      <td>0.304609</td>\n",
       "      <td>0.000000</td>\n",
       "      <td>0.304609</td>\n",
       "      <td>0.304609</td>\n",
       "      <td>0.639257</td>\n",
       "      <td>0.000000</td>\n",
       "      <td>0.428118</td>\n",
       "    </tr>\n",
       "    <tr>\n",
       "      <th>4</th>\n",
       "      <td>0.000000</td>\n",
       "      <td>0.000000</td>\n",
       "      <td>0.326520</td>\n",
       "      <td>0.685239</td>\n",
       "      <td>0.326520</td>\n",
       "      <td>0.326520</td>\n",
       "      <td>0.000000</td>\n",
       "      <td>0.000000</td>\n",
       "      <td>0.458913</td>\n",
       "    </tr>\n",
       "  </tbody>\n",
       "</table>\n",
       "</div>"
      ],
      "text/plain": [
       "   глубокое  интересная  машинное  неинтересная   область  обучение     очень  \\\n",
       "0  0.000000    0.438661  0.371016      0.000000  0.371016  0.371016  0.000000   \n",
       "1  0.000000    0.438661  0.371016      0.000000  0.371016  0.371016  0.000000   \n",
       "2  0.639257    0.360146  0.304609      0.000000  0.304609  0.304609  0.000000   \n",
       "3  0.000000    0.360146  0.304609      0.000000  0.304609  0.304609  0.639257   \n",
       "4  0.000000    0.000000  0.326520      0.685239  0.326520  0.326520  0.000000   \n",
       "\n",
       "         то       это  \n",
       "0  0.628186  0.000000  \n",
       "1  0.628186  0.000000  \n",
       "2  0.000000  0.428118  \n",
       "3  0.000000  0.428118  \n",
       "4  0.000000  0.458913  "
      ]
     },
     "execution_count": 4,
     "metadata": {},
     "output_type": "execute_result"
    }
   ],
   "source": [
    "tfidf_vectorizer = TfidfVectorizer()\n",
    "tfidf_matrix = tfidf_vectorizer.fit_transform(documents)\n",
    "feature_names = tfidf_vectorizer.get_feature_names_out()\n",
    "dense = tfidf_matrix.todense()\n",
    "denselist = dense.tolist()\n",
    "\n",
    "df = pd.DataFrame(denselist, columns = feature_names)\n",
    "df"
   ]
  },
  {
   "cell_type": "code",
   "execution_count": 5,
   "id": "b4f1f25b",
   "metadata": {},
   "outputs": [
    {
     "data": {
      "text/html": [
       "<div>\n",
       "<style scoped>\n",
       "    .dataframe tbody tr th:only-of-type {\n",
       "        vertical-align: middle;\n",
       "    }\n",
       "\n",
       "    .dataframe tbody tr th {\n",
       "        vertical-align: top;\n",
       "    }\n",
       "\n",
       "    .dataframe thead th {\n",
       "        text-align: right;\n",
       "    }\n",
       "</style>\n",
       "<table border=\"1\" class=\"dataframe\">\n",
       "  <thead>\n",
       "    <tr style=\"text-align: right;\">\n",
       "      <th></th>\n",
       "      <th>глубокое</th>\n",
       "      <th>интересная</th>\n",
       "      <th>машинное</th>\n",
       "      <th>неинтересная</th>\n",
       "      <th>область</th>\n",
       "      <th>обучение</th>\n",
       "      <th>очень</th>\n",
       "      <th>то</th>\n",
       "      <th>это</th>\n",
       "    </tr>\n",
       "  </thead>\n",
       "  <tbody>\n",
       "    <tr>\n",
       "      <th>doc_0</th>\n",
       "      <td>0.000000</td>\n",
       "      <td>0.438661</td>\n",
       "      <td>0.371016</td>\n",
       "      <td>0.000000</td>\n",
       "      <td>0.371016</td>\n",
       "      <td>0.371016</td>\n",
       "      <td>0.000000</td>\n",
       "      <td>0.628186</td>\n",
       "      <td>0.000000</td>\n",
       "    </tr>\n",
       "    <tr>\n",
       "      <th>doc_1</th>\n",
       "      <td>0.000000</td>\n",
       "      <td>0.438661</td>\n",
       "      <td>0.371016</td>\n",
       "      <td>0.000000</td>\n",
       "      <td>0.371016</td>\n",
       "      <td>0.371016</td>\n",
       "      <td>0.000000</td>\n",
       "      <td>0.628186</td>\n",
       "      <td>0.000000</td>\n",
       "    </tr>\n",
       "    <tr>\n",
       "      <th>doc_2</th>\n",
       "      <td>0.639257</td>\n",
       "      <td>0.360146</td>\n",
       "      <td>0.304609</td>\n",
       "      <td>0.000000</td>\n",
       "      <td>0.304609</td>\n",
       "      <td>0.304609</td>\n",
       "      <td>0.000000</td>\n",
       "      <td>0.000000</td>\n",
       "      <td>0.428118</td>\n",
       "    </tr>\n",
       "    <tr>\n",
       "      <th>doc_3</th>\n",
       "      <td>0.000000</td>\n",
       "      <td>0.360146</td>\n",
       "      <td>0.304609</td>\n",
       "      <td>0.000000</td>\n",
       "      <td>0.304609</td>\n",
       "      <td>0.304609</td>\n",
       "      <td>0.639257</td>\n",
       "      <td>0.000000</td>\n",
       "      <td>0.428118</td>\n",
       "    </tr>\n",
       "    <tr>\n",
       "      <th>doc_4</th>\n",
       "      <td>0.000000</td>\n",
       "      <td>0.000000</td>\n",
       "      <td>0.326520</td>\n",
       "      <td>0.685239</td>\n",
       "      <td>0.326520</td>\n",
       "      <td>0.326520</td>\n",
       "      <td>0.000000</td>\n",
       "      <td>0.000000</td>\n",
       "      <td>0.458913</td>\n",
       "    </tr>\n",
       "  </tbody>\n",
       "</table>\n",
       "</div>"
      ],
      "text/plain": [
       "       глубокое  интересная  машинное  неинтересная   область  обучение  \\\n",
       "doc_0  0.000000    0.438661  0.371016      0.000000  0.371016  0.371016   \n",
       "doc_1  0.000000    0.438661  0.371016      0.000000  0.371016  0.371016   \n",
       "doc_2  0.639257    0.360146  0.304609      0.000000  0.304609  0.304609   \n",
       "doc_3  0.000000    0.360146  0.304609      0.000000  0.304609  0.304609   \n",
       "doc_4  0.000000    0.000000  0.326520      0.685239  0.326520  0.326520   \n",
       "\n",
       "          очень        то       это  \n",
       "doc_0  0.000000  0.628186  0.000000  \n",
       "doc_1  0.000000  0.628186  0.000000  \n",
       "doc_2  0.000000  0.000000  0.428118  \n",
       "doc_3  0.639257  0.000000  0.428118  \n",
       "doc_4  0.000000  0.000000  0.458913  "
      ]
     },
     "execution_count": 5,
     "metadata": {},
     "output_type": "execute_result"
    }
   ],
   "source": [
    "cosine_similarity_matrix  = cosine_similarity(tfidf_matrix)\n",
    "create_dataframe(tfidf_matrix.toarray(), feature_names)"
   ]
  },
  {
   "cell_type": "code",
   "execution_count": 6,
   "id": "caeccec8",
   "metadata": {},
   "outputs": [
    {
     "data": {
      "text/plain": [
       "<Axes: >"
      ]
     },
     "execution_count": 6,
     "metadata": {},
     "output_type": "execute_result"
    },
    {
     "data": {
      "image/png": "[encoded data removed]",
      "text/plain": [
       "<Figure size 640x480 with 2 Axes>"
      ]
     },
     "metadata": {},
     "output_type": "display_data"
    }
   ],
   "source": [
    "doc_names_list = [f'doc_{i}' for i, _ in enumerate(cosine_similarity_matrix)]\n",
    "dataframe_hm = create_dataframe(cosine_similarity_matrix, doc_names_list)\n",
    "#plt.figure(figsize = (24,16))\n",
    "sns.heatmap(dataframe_hm, cmap=\"Blues\", annot=True, fmt=\".1f\") \n",
    "#, annot= True,fmt=\".1f\""
   ]
  },
  {
   "cell_type": "code",
   "execution_count": 7,
   "id": "0d056f49",
   "metadata": {},
   "outputs": [
    {
     "ename": "NameError",
     "evalue": "name 'tfidf_scores' is not defined",
     "output_type": "error",
     "traceback": [
      "\u001b[1;31m---------------------------------------------------------------------------\u001b[0m",
      "\u001b[1;31mNameError\u001b[0m                                 Traceback (most recent call last)",
      "Cell \u001b[1;32mIn[7], line 2\u001b[0m\n\u001b[0;32m      1\u001b[0m \u001b[39m# Сортировка слов по значениям TF-IDF\u001b[39;00m\n\u001b[1;32m----> 2\u001b[0m sorted_keywords \u001b[39m=\u001b[39m [word \u001b[39mfor\u001b[39;00m _, word \u001b[39min\u001b[39;00m \u001b[39msorted\u001b[39m(\u001b[39mzip\u001b[39m(tfidf_scores, feature_names), reverse\u001b[39m=\u001b[39m\u001b[39mTrue\u001b[39;00m)]\n\u001b[0;32m      4\u001b[0m \u001b[39mprint\u001b[39m(\u001b[39m\"\u001b[39m\u001b[39mКлючевые слова:\u001b[39m\u001b[39m\"\u001b[39m, sorted_keywords[:\u001b[39m10\u001b[39m])\n",
      "\u001b[1;31mNameError\u001b[0m: name 'tfidf_scores' is not defined"
     ]
    }
   ],
   "source": [
    "# Сортировка слов по значениям TF-IDF\n",
    "sorted_keywords = [word for _, word in sorted(zip(tfidf_scores, feature_names), reverse=True)]\n",
    "\n",
    "print(\"Ключевые слова:\", sorted_keywords[:10])"
   ]
  },
  {
   "cell_type": "code",
   "execution_count": null,
   "id": "592ba4f4",
   "metadata": {},
   "outputs": [
    {
     "data": {
      "text/plain": [
       "array(['глубокое', 'интересная', 'машинное', 'неинтересная', 'область',\n",
       "       'обучение', 'очень', 'то', 'это'], dtype=object)"
      ]
     },
     "execution_count": 185,
     "metadata": {},
     "output_type": "execute_result"
    }
   ],
   "source": [
    "feature_names"
   ]
  },
  {
   "cell_type": "code",
   "execution_count": null,
   "id": "8d4ee177",
   "metadata": {},
   "outputs": [
    {
     "data": {
      "text/plain": [
       "array([0.30151134, 0.30151134, 0.        , 0.        , 0.30151134,\n",
       "       0.30151134, 0.30151134, 0.30151134, 0.        , 0.        ,\n",
       "       0.30151134, 0.30151134, 0.        , 0.        , 0.        ,\n",
       "       0.30151134, 0.        , 0.        , 0.30151134, 0.30151134])"
      ]
     },
     "execution_count": 186,
     "metadata": {},
     "output_type": "execute_result"
    }
   ],
   "source": [
    "tfidf_scores"
   ]
  },
  {
   "cell_type": "code",
   "execution_count": null,
   "id": "efbca629",
   "metadata": {},
   "outputs": [
    {
     "data": {
      "text/plain": [
       "array([[0.        , 0.43866078, 0.37101648, 0.        , 0.37101648,\n",
       "        0.37101648, 0.        , 0.62818551, 0.        ],\n",
       "       [0.        , 0.43866078, 0.37101648, 0.        , 0.37101648,\n",
       "        0.37101648, 0.        , 0.62818551, 0.        ],\n",
       "       [0.63925688, 0.36014618, 0.30460933, 0.        , 0.30460933,\n",
       "        0.30460933, 0.        , 0.        , 0.42811778],\n",
       "       [0.        , 0.36014618, 0.30460933, 0.        , 0.30460933,\n",
       "        0.30460933, 0.63925688, 0.        , 0.42811778],\n",
       "       [0.        , 0.        , 0.32652018, 0.68523926, 0.32652018,\n",
       "        0.32652018, 0.        , 0.        , 0.45891272]])"
      ]
     },
     "execution_count": 187,
     "metadata": {},
     "output_type": "execute_result"
    }
   ],
   "source": [
    "tfidf_matrix.toarray()"
   ]
  },
  {
   "cell_type": "code",
   "execution_count": null,
   "id": "914927eb",
   "metadata": {},
   "outputs": [],
   "source": [
    "df = pd.DataFrame({'docId': [1,2,3], \n",
    "               'sent': ['This is the first sentence','This is the second sentence', 'This is the third sentence']})"
   ]
  },
  {
   "cell_type": "code",
   "execution_count": null,
   "id": "0afe62aa",
   "metadata": {},
   "outputs": [
    {
     "data": {
      "text/html": [
       "<div>\n",
       "<style scoped>\n",
       "    .dataframe tbody tr th:only-of-type {\n",
       "        vertical-align: middle;\n",
       "    }\n",
       "\n",
       "    .dataframe tbody tr th {\n",
       "        vertical-align: top;\n",
       "    }\n",
       "\n",
       "    .dataframe thead th {\n",
       "        text-align: right;\n",
       "    }\n",
       "</style>\n",
       "<table border=\"1\" class=\"dataframe\">\n",
       "  <thead>\n",
       "    <tr style=\"text-align: right;\">\n",
       "      <th></th>\n",
       "      <th>docId</th>\n",
       "      <th>sent</th>\n",
       "    </tr>\n",
       "  </thead>\n",
       "  <tbody>\n",
       "    <tr>\n",
       "      <th>0</th>\n",
       "      <td>1</td>\n",
       "      <td>This is the first sentence</td>\n",
       "    </tr>\n",
       "    <tr>\n",
       "      <th>1</th>\n",
       "      <td>2</td>\n",
       "      <td>This is the second sentence</td>\n",
       "    </tr>\n",
       "    <tr>\n",
       "      <th>2</th>\n",
       "      <td>3</td>\n",
       "      <td>This is the third sentence</td>\n",
       "    </tr>\n",
       "  </tbody>\n",
       "</table>\n",
       "</div>"
      ],
      "text/plain": [
       "   docId                         sent\n",
       "0      1   This is the first sentence\n",
       "1      2  This is the second sentence\n",
       "2      3   This is the third sentence"
      ]
     },
     "execution_count": 189,
     "metadata": {},
     "output_type": "execute_result"
    }
   ],
   "source": [
    "df"
   ]
  },
  {
   "cell_type": "code",
   "execution_count": null,
   "id": "9fa19c79",
   "metadata": {},
   "outputs": [
    {
     "data": {
      "text/plain": [
       "array([[0.64612892, 0.38161415, 0.        , 0.38161415, 0.38161415,\n",
       "        0.        , 0.38161415],\n",
       "       [0.        , 0.38161415, 0.64612892, 0.38161415, 0.38161415,\n",
       "        0.        , 0.38161415],\n",
       "       [0.        , 0.38161415, 0.        , 0.38161415, 0.38161415,\n",
       "        0.64612892, 0.38161415]])"
      ]
     },
     "execution_count": 190,
     "metadata": {},
     "output_type": "execute_result"
    }
   ],
   "source": [
    "v = TfidfVectorizer()\n",
    "x = v.fit_transform(df['sent'])\n",
    "x.toarray()"
   ]
  },
  {
   "cell_type": "code",
   "execution_count": null,
   "id": "1bd32974",
   "metadata": {},
   "outputs": [
    {
     "name": "stderr",
     "output_type": "stream",
     "text": [
      "c:\\Users\\seismopro\\AppData\\Local\\anaconda3\\Lib\\site-packages\\sklearn\\utils\\deprecation.py:87: FutureWarning: Function get_feature_names is deprecated; get_feature_names is deprecated in 1.0 and will be removed in 1.2. Please use get_feature_names_out instead.\n",
      "  warnings.warn(msg, category=FutureWarning)\n"
     ]
    },
    {
     "data": {
      "text/plain": [
       "['first', 'is', 'second', 'sentence', 'the', 'third', 'this']"
      ]
     },
     "execution_count": 191,
     "metadata": {},
     "output_type": "execute_result"
    }
   ],
   "source": [
    "v.get_feature_names()"
   ]
  },
  {
   "cell_type": "code",
   "execution_count": null,
   "id": "1028e943",
   "metadata": {},
   "outputs": [
    {
     "name": "stdout",
     "output_type": "stream",
     "text": [
      "Важные фичи: ['становится все', 'становится', 'распространенным', 'искусственный интеллект', 'искусственный', 'интеллект становится', 'интеллект', 'все более', 'все', 'более распространенным', 'более', 'системы обладают', 'системы', 'потенциалом', 'обладают большим', 'обладают', 'интеллектуальные системы', 'интеллектуальные', 'большим потенциалом', 'большим']\n"
     ]
    }
   ],
   "source": [
    "from sklearn.feature_extraction.text import TfidfVectorizer\n",
    "\n",
    "# Пример текстовых данных\n",
    "documents = [\n",
    "    \"Искусственный интеллект становится все более распространенным.\",\n",
    "    \"Интеллектуальные системы обладают большим потенциалом.\"\n",
    "]\n",
    "\n",
    "# Создание объекта TfidfVectorizer с использованием биграмм\n",
    "tfidf_vectorizer = TfidfVectorizer(ngram_range=(1, 2))\n",
    "\n",
    "# Применение TF-IDF к текстовым данным\n",
    "tfidf_matrix = tfidf_vectorizer.fit_transform(documents)\n",
    "\n",
    "# Получение списка фичей и их значения TF-IDF для первого документа\n",
    "feature_names = tfidf_vectorizer.get_feature_names_out()\n",
    "tfidf_scores = tfidf_matrix.toarray()[0]\n",
    "\n",
    "# Сортировка фичей по значениям TF-IDF\n",
    "sorted_features = [feature for _, feature in sorted(zip(tfidf_scores, feature_names), reverse=True)]\n",
    "\n",
    "print(\"Важные фичи:\", sorted_features)"
   ]
  }
 ],
 "metadata": {
  "kernelspec": {
   "display_name": "Python 3.11.5 ('base')",
   "language": "python",
   "name": "python3"
  },
  "language_info": {
   "codemirror_mode": {
    "name": "ipython",
    "version": 3
   },
   "file_extension": ".py",
   "mimetype": "text/x-python",
   "name": "python",
   "nbconvert_exporter": "python",
   "pygments_lexer": "ipython3",
   "version": "3.11.5"
  },
  "vscode": {
   "interpreter": {
    "hash": "29df45c0630be6998bd6859d1c11360436602068b14ccc3a1231a3420f18c4a1"
   }
  }
 },
 "nbformat": 4,
 "nbformat_minor": 5
}
