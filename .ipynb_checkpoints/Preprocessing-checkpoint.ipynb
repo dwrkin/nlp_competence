{
 "cells": [
  {
   "cell_type": "code",
   "execution_count": 1,
   "id": "038aada0",
   "metadata": {},
   "outputs": [],
   "source": [
    "from PyPDF2 import PdfReader\n",
    "from PIL import Image\n",
    "import pytesseract\n",
    "import fitz\n",
    "from pdf2image import convert_from_path\n",
    "import os\n",
    "import win32com.client\n",
    "import openpyxl"
   ]
  },
  {
   "cell_type": "code",
   "execution_count": 2,
   "id": "82d921c0",
   "metadata": {},
   "outputs": [],
   "source": [
    "dir_source = r'C:\\Users\\seismopro\\source\\RPD_source'\n",
    "dir_output = r'C:\\Users\\seismopro\\source\\RPD_output'\n",
    "os.chdir(dir_source)\n",
    "config = r'--tessdata-dir \"C:\\Users\\seismopro\\AppData\\Local\\Programs\\Tesseract-OCR\\tessdata\" -l eng+rus'\n",
    "poppler_path = r'C:\\Users\\seismopro\\Release-23.11.0-0\\poppler-23.11.0\\Library\\bin'"
   ]
  },
  {
   "cell_type": "code",
   "execution_count": 3,
   "id": "b8f5693c",
   "metadata": {},
   "outputs": [],
   "source": [
    "dirs = []"
   ]
  },
  {
   "cell_type": "code",
   "execution_count": 4,
   "id": "695379ff",
   "metadata": {
    "scrolled": true
   },
   "outputs": [],
   "source": [
    "for root, dirs, files in os.walk(\".\", topdown = False):\n",
    "    for name in files:\n",
    "        dirs.append([dir_source + str(os.path.join(root, name))[1:], name[:-4]])\n",
    "#print(dirs)"
   ]
  },
  {
   "cell_type": "code",
   "execution_count": 5,
   "id": "c2040a07",
   "metadata": {},
   "outputs": [],
   "source": [
    "wb = openpyxl.load_workbook(dir_output + \"\\dataset.xlsx\")\n",
    "sheet = wb.active\n",
    "sheet.append(['path_name','file_name', 'text_raw', 'title', 'content'])\n",
    "for dir in dirs:\n",
    "    text_raw = ''\n",
    "    path_name = dir[0]\n",
    "    file_name = dir[1]\n",
    "    pdf_images = convert_from_path(dir[0], poppler_path = poppler_path, dpi = 300)\n",
    "    for idx in range(len(pdf_images)):\n",
    "        if not os.path.exists(dir_output + '\\images\\\\' + dir[1]): # если директории нет, то создаем ее\n",
    "            os.mkdir(dir_output + '\\images\\\\' + dir[1]) \n",
    "        save_path = dir_output + '\\images\\\\' + dir[1] + '\\\\'+ 'pdf_page_'+ str(idx+1) +'.png'\n",
    "        pdf_images[idx].save(save_path, 'PNG') #сохраняем картинки по папкам        \n",
    "        iterate_text = pytesseract.image_to_string(Image.open(save_path), config=config)\n",
    "        text_raw += iterate_text.replace(\"\\n\",\" \")\n",
    "        \n",
    "        #print(text_raw)\n",
    "    title = text_raw[text_raw.find(\"ФОРМА ОБУЧЕНИЯ\")+len(\"ФОРМА ОБУЧЕНИЯ\")+6:text_raw.find(\"Направление подготовки\")].strip()\n",
    "    content = text_raw[text_raw.find(\"Структура и содержание дисциплины\")+len(\"Структура и содержание дисциплины\")+1:text_raw.find(\"Организация самостоятельной работы студентов\")].strip()\n",
    "    #print(path_name, file_name,title,content )\n",
    "    sheet.append([path_name, file_name, text_raw, title, content])\n",
    "    \n",
    "wb.save(dir_output + \"\\dataset.xlsx\")\n",
    "wb.close()"
   ]
  }
 ],
 "metadata": {
  "kernelspec": {
   "display_name": "Python 3 (ipykernel)",
   "language": "python",
   "name": "python3"
  },
  "language_info": {
   "codemirror_mode": {
    "name": "ipython",
    "version": 3
   },
   "file_extension": ".py",
   "mimetype": "text/x-python",
   "name": "python",
   "nbconvert_exporter": "python",
   "pygments_lexer": "ipython3",
   "version": "3.11.5"
  }
 },
 "nbformat": 4,
 "nbformat_minor": 5
}
