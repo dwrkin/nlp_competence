{
 "cells": [
  {
   "cell_type": "code",
   "execution_count": 5,
   "id": "1de9d580",
   "metadata": {},
   "outputs": [],
   "source": [
    "def Jaccard_Similarity(doc1, doc2): \n",
    "    \n",
    "    # List the unique words in a document\n",
    "    words_doc1 = set(doc1.lower().split()) \n",
    "    words_doc2 = set(doc2.lower().split())\n",
    "    \n",
    "    # Find the intersection of words list of doc1 & doc2\n",
    "    intersection = words_doc1.intersection(words_doc2)\n",
    "\n",
    "    # Find the union of words list of doc1 & doc2\n",
    "    union = words_doc1.union(words_doc2)\n",
    "    \n",
    "    print(words_doc1)\n",
    "    print(words_doc2)\n",
    "    # Calculate Jaccard similarity score \n",
    "    # using length of intersection set divided by length of union set\n",
    "    return float(len(intersection)) / len(union)"
   ]
  },
  {
   "cell_type": "code",
   "execution_count": 6,
   "id": "fbde7aff",
   "metadata": {},
   "outputs": [],
   "source": [
    "doc_1 = \"Data is the new oil of the digital economy\"\n",
    "doc_2 = \"Data is a new oil\""
   ]
  },
  {
   "cell_type": "code",
   "execution_count": 7,
   "id": "2281cfa4",
   "metadata": {},
   "outputs": [
    {
     "name": "stdout",
     "output_type": "stream",
     "text": [
      "{'oil', 'new', 'data', 'the', 'is', 'of', 'economy', 'digital'}\n",
      "{'oil', 'new', 'data', 'is', 'a'}\n"
     ]
    },
    {
     "data": {
      "text/plain": [
       "0.4444444444444444"
      ]
     },
     "execution_count": 7,
     "metadata": {},
     "output_type": "execute_result"
    }
   ],
   "source": [
    "Jaccard_Similarity(doc_1,doc_2)"
   ]
  },
  {
   "cell_type": "code",
   "execution_count": null,
   "id": "81a2d211",
   "metadata": {},
   "outputs": [],
   "source": []
  }
 ],
 "metadata": {
  "kernelspec": {
   "display_name": "Python 3 (ipykernel)",
   "language": "python",
   "name": "python3"
  },
  "language_info": {
   "codemirror_mode": {
    "name": "ipython",
    "version": 3
   },
   "file_extension": ".py",
   "mimetype": "text/x-python",
   "name": "python",
   "nbconvert_exporter": "python",
   "pygments_lexer": "ipython3",
   "version": "3.11.5"
  }
 },
 "nbformat": 4,
 "nbformat_minor": 5
}
