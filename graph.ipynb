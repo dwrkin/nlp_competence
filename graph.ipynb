{
 "cells": [
  {
   "cell_type": "code",
   "execution_count": 1,
   "metadata": {},
   "outputs": [],
   "source": [
    "import matplotlib.pyplot as plt\n",
    "from random import sample\n",
    "import networkx as nx\n",
    "import pandas as pd\n",
    "import numpy as np"
   ]
  },
  {
   "cell_type": "code",
   "execution_count": 2,
   "metadata": {},
   "outputs": [],
   "source": [
    "from os import listdir\n",
    "from os.path import isfile, join"
   ]
  },
  {
   "cell_type": "code",
   "execution_count": 3,
   "metadata": {},
   "outputs": [],
   "source": [
    "root_dir = os.getcwd()"
   ]
  },
  {
   "cell_type": "code",
   "execution_count": 4,
   "metadata": {},
   "outputs": [],
   "source": [
    "file_set = set()\n",
    "\n",
    "for dir_, _, files in os.walk(root_dir):\n",
    "    for file_name in files:\n",
    "        rel_dir = os.path.relpath(dir_, root_dir)\n",
    "        rel_file = os.path.join(rel_dir, file_name)\n",
    "        file_set.add(rel_file)"
   ]
  },
  {
   "cell_type": "code",
   "execution_count": 5,
   "metadata": {},
   "outputs": [],
   "source": [
    "filtered_file_set = [x for x in file_set if \"RPD_output\\\\graph\\\\\" in x]"
   ]
  },
  {
   "cell_type": "code",
   "execution_count": 6,
   "metadata": {},
   "outputs": [
    {
     "data": {
      "text/plain": [
       "108"
      ]
     },
     "execution_count": 6,
     "metadata": {},
     "output_type": "execute_result"
    }
   ],
   "source": [
    "len(filtered_file_set)"
   ]
  },
  {
   "cell_type": "code",
   "execution_count": 7,
   "metadata": {},
   "outputs": [],
   "source": [
    "dataset_files = []\n",
    "for file in filtered_file_set:\n",
    "    network_data = pd.read_excel(file, sheet_name = ['Sheet1'], index_col=None)\n",
    "    dataset_files.extend(network_data['Sheet1'].values.tolist())\n",
    "df_export = pd.DataFrame(dataset_files)\n"
   ]
  },
  {
   "cell_type": "code",
   "execution_count": 8,
   "metadata": {},
   "outputs": [],
   "source": [
    "df_export.rename(columns={1:'disc', 2:'vacancy_id', 3: 'oop_name', 4: 'speciality', 5: 'cos_simularity'}, inplace=True)\n",
    "df_export.drop(columns=df_export.columns[0], axis=1, inplace=True)"
   ]
  },
  {
   "cell_type": "code",
   "execution_count": 9,
   "metadata": {},
   "outputs": [],
   "source": [
    "df_export.to_excel('text.xlsx')"
   ]
  },
  {
   "cell_type": "code",
   "execution_count": 10,
   "metadata": {},
   "outputs": [],
   "source": [
    "network_data = df_export"
   ]
  },
  {
   "cell_type": "code",
   "execution_count": 11,
   "metadata": {},
   "outputs": [],
   "source": [
    "connections_data = network_data[network_data['cos_simularity'] >= 0.5]\n",
    "edge_cols = ['oop_name', 'speciality', 'cos_simularity']"
   ]
  },
  {
   "cell_type": "code",
   "execution_count": 12,
   "metadata": {},
   "outputs": [],
   "source": [
    "df_disc_unique = network_data[['disc', 'oop_name']].drop_duplicates()\n",
    "df_disc_unique.rename(columns={\"disc\": \"node_label\", \"oop_name\": \"attribute\"}, inplace=True)"
   ]
  },
  {
   "cell_type": "code",
   "execution_count": 13,
   "metadata": {},
   "outputs": [],
   "source": [
    "df_vac_unique = network_data[['vacancy_id', 'speciality']].drop_duplicates()\n",
    "df_vac_unique.rename(columns={\"vacancy_id\": \"node_label\", \"speciality\": \"attribute\"}, inplace=True)"
   ]
  },
  {
   "cell_type": "code",
   "execution_count": 14,
   "metadata": {},
   "outputs": [
    {
     "name": "stderr",
     "output_type": "stream",
     "text": [
      "C:\\Users\\seismopro\\AppData\\Local\\Temp\\ipykernel_11764\\855689358.py:1: FutureWarning: The frame.append method is deprecated and will be removed from pandas in a future version. Use pandas.concat instead.\n",
      "  elements_data = df_disc_unique.append(df_vac_unique, ignore_index=True)\n"
     ]
    }
   ],
   "source": [
    "elements_data = df_disc_unique.append(df_vac_unique, ignore_index=True)\n",
    "elements_data.to_excel('text1.xlsx')"
   ]
  },
  {
   "cell_type": "code",
   "execution_count": 15,
   "metadata": {},
   "outputs": [],
   "source": [
    "graph = nx.convert_matrix.from_pandas_edgelist(connections_data,\n",
    "                                               source = 'disc',\n",
    "                                               target = 'vacancy_id',\n",
    "                                               edge_attr = edge_cols)"
   ]
  },
  {
   "cell_type": "code",
   "execution_count": 16,
   "metadata": {},
   "outputs": [],
   "source": [
    "node_dict = elements_data.set_index('node_label').to_dict(orient = 'index')\n"
   ]
  },
  {
   "cell_type": "code",
   "execution_count": 17,
   "metadata": {},
   "outputs": [
    {
     "data": {
      "text/plain": [
       "{'attribute': 'Финансовый менеджер'}"
      ]
     },
     "execution_count": 17,
     "metadata": {},
     "output_type": "execute_result"
    }
   ],
   "source": [
    "node_dict['85915191']"
   ]
  },
  {
   "cell_type": "code",
   "execution_count": 18,
   "metadata": {},
   "outputs": [],
   "source": [
    "nx.set_node_attributes(graph, node_dict)\n",
    "%matplotlib inline"
   ]
  },
  {
   "cell_type": "code",
   "execution_count": 19,
   "metadata": {},
   "outputs": [],
   "source": [
    "graph.add_nodes_from(elements_data['node_label'])"
   ]
  },
  {
   "cell_type": "code",
   "execution_count": 20,
   "metadata": {},
   "outputs": [
    {
     "data": {
      "text/plain": [
       "3485"
      ]
     },
     "execution_count": 20,
     "metadata": {},
     "output_type": "execute_result"
    }
   ],
   "source": [
    "nx.number_of_isolates(graph)"
   ]
  },
  {
   "cell_type": "code",
   "execution_count": 21,
   "metadata": {},
   "outputs": [],
   "source": [
    "nx.write_graphml(graph, \"RPD_output\\graph1.graphml\")"
   ]
  },
  {
   "cell_type": "code",
   "execution_count": 23,
   "metadata": {},
   "outputs": [
    {
     "data": {
      "text/plain": [
       "\"fig = plt.figure(figsize = (14, 9))\\n#colors = np.linspace(0, 1, len(graph.nodes))\\nlayout = nx.spring_layout(graph, k=0.70, iterations=60)\\ngraph.remove_nodes_from(list(nx.isolates(graph)))\\n\\nnx.draw(graph, \\n        node_size  = 30,\\n        #node_color = colors,\\n        pos = layout, \\n        node_color = node_dict,\\n        edge_color = 'g')\\nfig.set_facecolor('k')\""
      ]
     },
     "execution_count": 23,
     "metadata": {},
     "output_type": "execute_result"
    }
   ],
   "source": [
    "'''fig = plt.figure(figsize = (14, 9))\n",
    "#colors = np.linspace(0, 1, len(graph.nodes))\n",
    "layout = nx.spring_layout(graph, k=0.70, iterations=60)\n",
    "graph.remove_nodes_from(list(nx.isolates(graph)))\n",
    "\n",
    "nx.draw(graph, \n",
    "        node_size  = 30,\n",
    "        #node_color = colors,\n",
    "        pos = layout, \n",
    "        node_color = node_dict,\n",
    "        edge_color = 'g')\n",
    "fig.set_facecolor('k')'''"
   ]
  }
 ],
 "metadata": {
  "kernelspec": {
   "display_name": "Python 3.11.5 ('base')",
   "language": "python",
   "name": "python3"
  },
  "language_info": {
   "codemirror_mode": {
    "name": "ipython",
    "version": 3
   },
   "file_extension": ".py",
   "mimetype": "text/x-python",
   "name": "python",
   "nbconvert_exporter": "python",
   "pygments_lexer": "ipython3",
   "version": "3.11.5"
  },
  "orig_nbformat": 4,
  "vscode": {
   "interpreter": {
    "hash": "29df45c0630be6998bd6859d1c11360436602068b14ccc3a1231a3420f18c4a1"
   }
  }
 },
 "nbformat": 4,
 "nbformat_minor": 2
}
